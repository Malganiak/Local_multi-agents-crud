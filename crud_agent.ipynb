{
 "cells": [
  {
   "cell_type": "markdown",
   "metadata": {},
   "source": [
    "# Test CRUD par des agents IA"
   ]
  },
  {
   "cell_type": "markdown",
   "metadata": {},
   "source": [
    "## Agents"
   ]
  },
  {
   "cell_type": "markdown",
   "metadata": {},
   "source": [
    "### Import des librairies"
   ]
  },
  {
   "cell_type": "code",
   "execution_count": 1,
   "metadata": {},
   "outputs": [],
   "source": [
    "from crewai import Agent, Task, Process, Crew\n",
    "from langchain_community.llms import Ollama\n",
    "from langchain_openai import ChatOpenAI\n",
    "from pymongo import MongoClient\n",
    "from bson.objectid import ObjectId\n",
    "import os\n",
    "import re"
   ]
  },
  {
   "cell_type": "markdown",
   "metadata": {},
   "source": [
    "### Configuration d'Ollama"
   ]
  },
  {
   "cell_type": "code",
   "execution_count": 2,
   "metadata": {},
   "outputs": [],
   "source": [
    "# Configuration des variables d'environnement : Pour intégrer Ollama, définissez les variables d'environnement suivantes :\n",
    "os.environ[\"OPENAI_API_BASE\"] = 'http://localhost:11434/v1'\n",
    "os.environ[\"OPENAI_MODEL_NAME\"] = 'gemma:2b'  # Adjust based on available model\n",
    "os.environ[\"OPENAI_API_KEY\"] = 'NA'"
   ]
  },
  {
   "cell_type": "markdown",
   "metadata": {},
   "source": [
    "### Chargement du model"
   ]
  },
  {
   "cell_type": "code",
   "execution_count": 3,
   "metadata": {},
   "outputs": [],
   "source": [
    "llm = ChatOpenAI(\n",
    "    model = \"gemma:2b\",\n",
    "    base_url = \"http://localhost:11434/v1\")"
   ]
  },
  {
   "cell_type": "markdown",
   "metadata": {},
   "source": [
    "### Définir le rôle de l'agent"
   ]
  },
  {
   "cell_type": "code",
   "execution_count": 4,
   "metadata": {},
   "outputs": [],
   "source": [
    "general_agent = Agent(role = \"Math Professor\",\n",
    "                      goal = \"\"\"Provide the solution to the students that are asking mathematical questions and give them the answer.\"\"\",\n",
    "                      backstory = \"\"\"You are an excellent math professor that likes to solve math questions in a way that everyone can understand your solution\"\"\",\n",
    "                      allow_delegation = False,\n",
    "                      verbose = True,\n",
    "                      llm = llm)"
   ]
  },
  {
   "cell_type": "markdown",
   "metadata": {},
   "source": [
    "### Définir la tâche de l'agent"
   ]
  },
  {
   "cell_type": "code",
   "execution_count": 5,
   "metadata": {},
   "outputs": [],
   "source": [
    "task = Task(\n",
    "    description=\"\"\"what is pythagore theoreme ? \"\"\",\n",
    "    expected_output=\"\",  # Ajoutez une valeur par défaut ou une chaîne vide ici\n",
    "    agent=general_agent\n",
    ")"
   ]
  },
  {
   "cell_type": "markdown",
   "metadata": {},
   "source": [
    "### Executer la requête"
   ]
  },
  {
   "cell_type": "code",
   "execution_count": 6,
   "metadata": {},
   "outputs": [
    {
     "name": "stdout",
     "output_type": "stream",
     "text": [
      "\u001b[1m\u001b[95m [DEBUG]: == Working Agent: Math Professor\u001b[00m\n",
      "\u001b[1m\u001b[95m [INFO]: == Starting Task: what is pythagore theoreme ? \u001b[00m\n",
      "\n",
      "\n",
      "\u001b[1m> Entering new CrewAgentExecutor chain...\u001b[0m\n",
      "\u001b[32;1m\u001b[1;3m\u001b[0m\u001b[32;1m\u001b[1;3m**Thought:** I now can give a great answer\n",
      "**Final Answer:** Sure. The Pythagorean theorem states that in any right triangle, the square of the length of the longest side (c) is equal to the sum of the squares of the lengths of the other two sides (a and b). This theorem can be used to find the length of any side of a right triangle given the lengths of the other two sides.\u001b[0m\n",
      "\n",
      "\u001b[1m> Finished chain.\u001b[0m\n",
      "\u001b[1m\u001b[92m [DEBUG]: == [Math Professor] Task output: ** Sure. The Pythagorean theorem states that in any right triangle, the square of the length of the longest side (c) is equal to the sum of the squares of the lengths of the other two sides (a and b). This theorem can be used to find the length of any side of a right triangle given the lengths of the other two sides.\n",
      "\n",
      "\u001b[00m\n",
      "** Sure. The Pythagorean theorem states that in any right triangle, the square of the length of the longest side (c) is equal to the sum of the squares of the lengths of the other two sides (a and b). This theorem can be used to find the length of any side of a right triangle given the lengths of the other two sides.\n"
     ]
    }
   ],
   "source": [
    "crew = Crew(\n",
    "            agents=[general_agent],\n",
    "            tasks=[task],\n",
    "            verbose=2\n",
    "        )\n",
    "\n",
    "result = crew.kickoff()\n",
    "\n",
    "print(result)"
   ]
  },
  {
   "cell_type": "markdown",
   "metadata": {},
   "source": [
    "## CRUD"
   ]
  },
  {
   "cell_type": "markdown",
   "metadata": {},
   "source": [
    "### fonctions CRUD"
   ]
  },
  {
   "cell_type": "code",
   "execution_count": 7,
   "metadata": {},
   "outputs": [],
   "source": [
    "# Connexion à la base de données MongoDB\n",
    "def connect_to_database():\n",
    "    client = MongoClient(\"localhost\", 27017)\n",
    "    db = client.test_crud_agent\n",
    "    collection = db.crud_actions\n",
    "    return collection"
   ]
  },
  {
   "cell_type": "code",
   "execution_count": 8,
   "metadata": {},
   "outputs": [],
   "source": [
    "def create_course(course_details):\n",
    "    collection = connect_to_database()\n",
    "    existing_course = collection.find_one({\"title\": course_details[\"title\"]})\n",
    "    if existing_course:\n",
    "        return f\"Un cours avec le titre '{course_details['title']}' existe déjà.\"\n",
    "    \n",
    "    inserted_id = collection.insert_one(course_details).inserted_id\n",
    "    return f\"Le cours a été créé avec succès. ID du nouveau cours : {inserted_id}\""
   ]
  },
  {
   "cell_type": "code",
   "execution_count": 9,
   "metadata": {},
   "outputs": [],
   "source": [
    "def read_course(course_identifier):\n",
    "    collection = connect_to_database()\n",
    "    \n",
    "    # Rechercher par ID si l'identifiant est un ObjectId valide\n",
    "    if ObjectId.is_valid(course_identifier):\n",
    "        course = collection.find_one({\"_id\": ObjectId(course_identifier)})\n",
    "        if course:\n",
    "            return f\"Détails du cours : {course}\"\n",
    "        else:\n",
    "            return \"Le cours n'a pas été trouvé par ID.\"\n",
    "    \n",
    "    # Rechercher par titre si l'identifiant n'est pas un ObjectId valide\n",
    "    course = collection.find_one({\"title\": course_identifier})\n",
    "    if course:\n",
    "        return f\"Détails du cours : {course}\"\n",
    "    else:\n",
    "        return \"Le cours n'a pas été trouvé par titre.\""
   ]
  },
  {
   "cell_type": "code",
   "execution_count": 10,
   "metadata": {},
   "outputs": [],
   "source": [
    "def update_course(course_identifier, new_details):\n",
    "    collection = connect_to_database()\n",
    "    \n",
    "    # Rechercher par ID si l'identifiant est un ObjectId valide\n",
    "    if ObjectId.is_valid(course_identifier):\n",
    "        query = {\"_id\": ObjectId(course_identifier)}\n",
    "    else:\n",
    "        query = {\"title\": course_identifier}\n",
    "    \n",
    "    update_result = collection.update_one(query, {\"$set\": new_details})\n",
    "    if update_result.modified_count > 0:\n",
    "        return \"Les détails du cours ont été mis à jour avec succès.\"\n",
    "    else:\n",
    "        return \"Aucun cours n'a été mis à jour.\""
   ]
  },
  {
   "cell_type": "code",
   "execution_count": 11,
   "metadata": {},
   "outputs": [],
   "source": [
    "def delete_course(course_identifier):\n",
    "    collection = connect_to_database()\n",
    "    \n",
    "    # Rechercher par ID si l'identifiant est un ObjectId valide\n",
    "    if ObjectId.is_valid(course_identifier):\n",
    "        query = {\"_id\": ObjectId(course_identifier)}\n",
    "    else:\n",
    "        query = {\"title\": course_identifier}\n",
    "    \n",
    "    delete_result = collection.delete_one(query)\n",
    "    if delete_result.deleted_count > 0:\n",
    "        return \"Le cours a été supprimé avec succès.\"\n",
    "    else:\n",
    "        return \"Aucun cours n'a été supprimé.\""
   ]
  },
  {
   "cell_type": "markdown",
   "metadata": {},
   "source": [
    "### fonctions NLP"
   ]
  },
  {
   "cell_type": "code",
   "execution_count": 12,
   "metadata": {},
   "outputs": [],
   "source": [
    "def determine_action_from_user_input(user_input):\n",
    "    user_input = user_input.lower()\n",
    "    if \"create\" in user_input:\n",
    "        return \"create\"\n",
    "    elif \"read\" in user_input:\n",
    "        return \"read\"\n",
    "    elif \"update\" in user_input:\n",
    "        return \"update\"\n",
    "    elif \"delete\" in user_input:\n",
    "        return \"delete\"\n",
    "    else:\n",
    "        return None"
   ]
  },
  {
   "cell_type": "code",
   "execution_count": 13,
   "metadata": {},
   "outputs": [],
   "source": [
    "def extract_details_from_user_input(user_input):\n",
    "    # Utilisation des expressions régulières pour extraire les informations de l'input utilisateur\n",
    "    title = re.search(r\"title\\s*:\\s*'([^']+)'\", user_input)\n",
    "    instructor = re.search(r\"instructor\\s*:\\s*'([^']+)'\", user_input)\n",
    "    description = re.search(r\"description\\s*:\\s*'([^']+)'\", user_input)\n",
    "    course_id = re.search(r\"id\\s*:\\s*'([^']+)'\", user_input)\n",
    "\n",
    "    details = {}\n",
    "    if title:\n",
    "        details[\"title\"] = title.group(1)\n",
    "    if instructor:\n",
    "        details[\"instructor\"] = instructor.group(1)\n",
    "    if description:\n",
    "        details[\"description\"] = description.group(1)\n",
    "    if course_id:\n",
    "        details[\"course_id\"] = course_id.group(1)\n",
    "\n",
    "    return details"
   ]
  },
  {
   "cell_type": "code",
   "execution_count": 14,
   "metadata": {},
   "outputs": [],
   "source": [
    "def handle_user_request(user_input):\n",
    "    action = determine_action_from_user_input(user_input)\n",
    "    details = extract_details_from_user_input(user_input)\n",
    "\n",
    "    if action == \"create\":\n",
    "        course_details = {\n",
    "            \"title\": details.get(\"title\", \"Default Title\"),\n",
    "            \"instructor\": details.get(\"instructor\", \"Default Instructor\"),\n",
    "            \"description\": details.get(\"description\", \"Default Description\")\n",
    "        }\n",
    "        response = create_course(course_details)\n",
    "    elif action == \"read\":\n",
    "        course_title = details.get(\"title\")\n",
    "        if course_title:\n",
    "            collection = connect_to_database()\n",
    "            course = collection.find_one({\"title\": course_title})\n",
    "            if course:\n",
    "                response = f\"Détails du cours : {course}\"\n",
    "            else:\n",
    "                response = \"Le cours n'a pas été trouvé.\"\n",
    "        else:\n",
    "            response = \"Le titre du cours est nécessaire pour lire les détails.\"\n",
    "    elif action == \"update\":\n",
    "        course_id_or_title = details.get(\"course_id\") or details.get(\"title\")\n",
    "        if course_id_or_title:\n",
    "            new_details = {\n",
    "                \"title\": details.get(\"title\"),\n",
    "                \"instructor\": details.get(\"instructor\"),\n",
    "                \"description\": details.get(\"description\")\n",
    "            }\n",
    "            new_details = {k: v for k, v in new_details.items() if v is not None}  # Remove None values\n",
    "            response = update_course(course_id_or_title, new_details)\n",
    "        else:\n",
    "            response = \"L'ID ou le titre du cours est nécessaire pour mettre à jour les détails.\"\n",
    "    elif action == \"delete\":\n",
    "        course_id_or_title = details.get(\"course_id\") or details.get(\"title\")\n",
    "        if course_id_or_title:\n",
    "            # Supprimer par ID si disponible\n",
    "            if ObjectId.is_valid(course_id_or_title):\n",
    "                response = delete_course(course_id_or_title)\n",
    "            else:\n",
    "                # Supprimer par titre s'il n'y a pas d'ID valide\n",
    "                response = delete_course(course_id_or_title)\n",
    "        else:\n",
    "            response = \"L'ID ou le titre du cours est nécessaire pour supprimer le cours.\"\n",
    "    else:\n",
    "        response = \"Je suis désolé, je n'ai pas compris votre demande.\"\n",
    "\n",
    "    return response"
   ]
  },
  {
   "cell_type": "markdown",
   "metadata": {},
   "source": [
    "### Exemple de création d'un nouveau cours"
   ]
  },
  {
   "cell_type": "code",
   "execution_count": 15,
   "metadata": {},
   "outputs": [
    {
     "name": "stdout",
     "output_type": "stream",
     "text": [
      "Le cours a été créé avec succès. ID du nouveau cours : 6669a4426698783ceed4427b\n"
     ]
    }
   ],
   "source": [
    "new_course_details = {\n",
    "    \"title\": \"Mathématiques avancées\",\n",
    "    \"instructor\": \"Professeur Smith\",\n",
    "    \"description\": \"Ce cours couvre des sujets avancés en mathématiques.\",\n",
    "    # Ajoutez d'autres détails du cours ici...\n",
    "}\n",
    "creation_response = create_course(new_course_details)\n",
    "print(creation_response)"
   ]
  },
  {
   "cell_type": "markdown",
   "metadata": {},
   "source": [
    "### Exemple de lecture des détails d'un cours"
   ]
  },
  {
   "cell_type": "code",
   "execution_count": 23,
   "metadata": {},
   "outputs": [
    {
     "name": "stdout",
     "output_type": "stream",
     "text": [
      "Détails du cours : {'_id': ObjectId('6669a4426698783ceed4427b'), 'title': 'Mathématiques avancées', 'instructor': 'Professeur Smith', 'description': 'Ce cours couvre des sujets avancés en mathématiques.'}\n"
     ]
    }
   ],
   "source": [
    "course_id_to_read = \"6669a4426698783ceed4427b\"  # ID du cours à lire\n",
    "read_response = read_course(course_id_to_read)\n",
    "print(read_response)"
   ]
  },
  {
   "cell_type": "markdown",
   "metadata": {},
   "source": [
    "### Exemple de mise à jour des détails d'un cours"
   ]
  },
  {
   "cell_type": "code",
   "execution_count": 24,
   "metadata": {},
   "outputs": [
    {
     "name": "stdout",
     "output_type": "stream",
     "text": [
      "Les détails du cours ont été mis à jour avec succès.\n"
     ]
    }
   ],
   "source": [
    "course_id_to_update = \"6669a4426698783ceed4427b\"  # ID du cours à mettre à jour\n",
    "new_course_details = {\n",
    "    \"description\": \"Ce cours couvre des sujets avancés en mathématiques et en physique.\"\n",
    "    # Autres détails mis à jour du cours...\n",
    "}\n",
    "update_response = update_course(course_id_to_update, new_course_details)\n",
    "print(update_response)"
   ]
  },
  {
   "cell_type": "markdown",
   "metadata": {},
   "source": [
    "### Exemple de suppression d'un cours\n"
   ]
  },
  {
   "cell_type": "code",
   "execution_count": 25,
   "metadata": {},
   "outputs": [
    {
     "name": "stdout",
     "output_type": "stream",
     "text": [
      "Le cours a été supprimé avec succès.\n"
     ]
    }
   ],
   "source": [
    "course_id_to_delete = \"6669a4426698783ceed4427b\"  # ID du cours à supprimer\n",
    "delete_response = delete_course(course_id_to_delete)\n",
    "print(delete_response)"
   ]
  },
  {
   "cell_type": "markdown",
   "metadata": {},
   "source": [
    "### Exemple de création depuis un prompt"
   ]
  },
  {
   "cell_type": "code",
   "execution_count": 26,
   "metadata": {},
   "outputs": [
    {
     "name": "stdout",
     "output_type": "stream",
     "text": [
      "Le cours a été créé avec succès. ID du nouveau cours : 6669a46b6698783ceed44286\n"
     ]
    }
   ],
   "source": [
    "# Exemple d'utilisation\n",
    "user_input = \"Can you create a course with title: 'Mathématiques avancées1', instructor: 'Professeur Smith', description: 'Ce cours couvre des sujets avancés en mathématiques'?\"\n",
    "response = handle_user_request(user_input)\n",
    "print(response)"
   ]
  },
  {
   "cell_type": "markdown",
   "metadata": {},
   "source": [
    "### Exemple de lecture depuis un prompt"
   ]
  },
  {
   "cell_type": "code",
   "execution_count": 27,
   "metadata": {},
   "outputs": [
    {
     "name": "stdout",
     "output_type": "stream",
     "text": [
      "Détails du cours : {'_id': ObjectId('6669a46b6698783ceed44286'), 'title': 'Mathématiques avancées1', 'instructor': 'Professeur Smith', 'description': 'Ce cours couvre des sujets avancés en mathématiques'}\n"
     ]
    }
   ],
   "source": [
    "user_input = \"Can you read the course with title: 'Mathématiques avancées1'?\"\n",
    "response = handle_user_request(user_input)\n",
    "print(response)"
   ]
  },
  {
   "cell_type": "markdown",
   "metadata": {},
   "source": [
    "### Exemple de mise à jour depuis un prompt"
   ]
  },
  {
   "cell_type": "code",
   "execution_count": 28,
   "metadata": {},
   "outputs": [
    {
     "name": "stdout",
     "output_type": "stream",
     "text": [
      "Les détails du cours ont été mis à jour avec succès.\n"
     ]
    }
   ],
   "source": [
    "user_input = \"Can you update the course with title: 'Mathématiques avancées1', description: 'Ce cours couvre des sujets avancés en mathématiques et en physique'?\"\n",
    "response = handle_user_request(user_input)\n",
    "print(response)"
   ]
  },
  {
   "cell_type": "markdown",
   "metadata": {},
   "source": [
    "### Exemple de suppresion depuis un prompt"
   ]
  },
  {
   "cell_type": "code",
   "execution_count": 31,
   "metadata": {},
   "outputs": [
    {
     "name": "stdout",
     "output_type": "stream",
     "text": [
      "L'ID du cours est nécessaire pour supprimer le cours.\n"
     ]
    }
   ],
   "source": [
    "user_input = \"Can you delete the course with title: 'Mathématiques avancées'?\"\n",
    "response = handle_user_request(user_input)\n",
    "print(response)"
   ]
  },
  {
   "cell_type": "code",
   "execution_count": null,
   "metadata": {},
   "outputs": [],
   "source": []
  }
 ],
 "metadata": {
  "kernelspec": {
   "display_name": "Python 3",
   "language": "python",
   "name": "python3"
  },
  "language_info": {
   "codemirror_mode": {
    "name": "ipython",
    "version": 3
   },
   "file_extension": ".py",
   "mimetype": "text/x-python",
   "name": "python",
   "nbconvert_exporter": "python",
   "pygments_lexer": "ipython3",
   "version": "3.12.3"
  }
 },
 "nbformat": 4,
 "nbformat_minor": 2
}
